{
 "cells": [
  {
   "cell_type": "markdown",
   "source": [
    "# 1. Spin wave simulations of CoRh₂O₄\n",
    "\n",
    "This tutorial introduces Sunny through its features for performing\n",
    "conventional spin wave theory calculations. For concreteness, we consider the\n",
    "crystal CoRh₂O₄ and reproduce the calculations of [Ge et al., Phys. Rev. B 96,\n",
    "064413](https://doi.org/10.1103/PhysRevB.96.064413)."
   ],
   "metadata": {}
  },
  {
   "cell_type": "markdown",
   "source": [
    "### Get Julia and Sunny\n",
    "\n",
    "Sunny is implemented in Julia, which allows for interactive development (like\n",
    "Python or Matlab) while also providing high numerical efficiency (like C++ or\n",
    "Fortran). New Julia users should begin with our **[Getting\n",
    "Started](https://github.com/SunnySuite/Sunny.jl/wiki/Getting-started-with-Julia)**\n",
    "guide. Sunny requires Julia 1.10 or later.\n",
    "\n",
    "From the Julia prompt, load both `Sunny` and `GLMakie`. The latter is needed\n",
    "for graphics."
   ],
   "metadata": {}
  },
  {
   "outputs": [],
   "cell_type": "code",
   "source": [
    "using Sunny, GLMakie"
   ],
   "metadata": {},
   "execution_count": null
  },
  {
   "cell_type": "markdown",
   "source": [
    "If these packages are not yet installed, Julia will offer to install them for\n",
    "you. If executing this script gives an error, you may need to `update` Sunny\n",
    "and GLMakie from the [built-in package\n",
    "manager](https://github.com/SunnySuite/Sunny.jl/wiki/Getting-started-with-Julia#the-built-in-julia-package-manager)."
   ],
   "metadata": {}
  },
  {
   "cell_type": "markdown",
   "source": [
    "### Units"
   ],
   "metadata": {}
  },
  {
   "cell_type": "markdown",
   "source": [
    "The `Units` object selects reference energy and length\n",
    "scales. This is achieved by providing physical constants. For example,\n",
    "`units.K` would provide one kelvin as 0.086 meV, with the Boltzmann constant\n",
    "implicit."
   ],
   "metadata": {}
  },
  {
   "outputs": [],
   "cell_type": "code",
   "source": [
    "units = Units(:meV, :angstrom);"
   ],
   "metadata": {},
   "execution_count": null
  },
  {
   "cell_type": "markdown",
   "source": [
    "### Crystal cell\n",
    "\n",
    "A crystallographic cell may be loaded from a `.cif` file, or can be specified\n",
    "from atom positions and types.\n",
    "\n",
    "Start by defining the shape of the conventional chemical cell. CoRh₂O₄ has\n",
    "cubic spacegroup 227 (Fd-3m). Its lattice constants are 8.5 Å, and the cell\n",
    "angles are 90°. With this information, `lattice_vectors` constructs a\n",
    "3×3 matrix `latvecs`. Columns of `latvecs` define the lattice vectors $(𝐚_1,\n",
    "𝐚_2, 𝐚_3)$ in the global Cartesian coordinate system. Conversely, columns\n",
    "of `inv(latvecs)` define the global Cartesian axes $(\\hat{x}, \\hat{y},\n",
    "\\hat{z})$ in components of the lattice vectors."
   ],
   "metadata": {}
  },
  {
   "outputs": [],
   "cell_type": "code",
   "source": [
    "a = 8.5031 # (Å)\n",
    "latvecs = lattice_vectors(a, a, a, 90, 90, 90)"
   ],
   "metadata": {},
   "execution_count": null
  },
  {
   "cell_type": "markdown",
   "source": [
    "Construct the `Crystal` cell from the spacegroup number 227 and one\n",
    "representative atom of each occupied Wyckoff. In the standard setting of\n",
    "spacegroup 227, position `[0, 0, 0]` belongs to Wyckoff 8a, which is the\n",
    "diamond cubic crystal."
   ],
   "metadata": {}
  },
  {
   "outputs": [],
   "cell_type": "code",
   "source": [
    "positions = [[0, 0, 0]]\n",
    "cryst = Crystal(latvecs, positions, 227; types=[\"Co\"], setting=\"1\")"
   ],
   "metadata": {},
   "execution_count": null
  },
  {
   "cell_type": "markdown",
   "source": [
    "`view_crystal` launches an interface for interactive inspection and\n",
    "symmetry analysis."
   ],
   "metadata": {}
  },
  {
   "outputs": [],
   "cell_type": "code",
   "source": [
    "view_crystal(cryst)"
   ],
   "metadata": {},
   "execution_count": null
  },
  {
   "cell_type": "markdown",
   "source": [
    "### Spin system"
   ],
   "metadata": {}
  },
  {
   "cell_type": "markdown",
   "source": [
    "A `System` will define the spin model. Each cobalt atom carries\n",
    "quantum spin $s = 3/2$, with a $g$-factor of 2. Specify this\n",
    "`Moment` data for cobalt atom 1. By symmetry, the same moment data\n",
    "also applies to cobalt atoms 2, 3, ... 7. The option `:dipole` indicates a\n",
    "traditional model type, for which quantum spin is modeled as a dipole\n",
    "expectation value."
   ],
   "metadata": {}
  },
  {
   "outputs": [],
   "cell_type": "code",
   "source": [
    "sys = System(cryst, [1 => Moment(s=3/2, g=2)], :dipole)"
   ],
   "metadata": {},
   "execution_count": null
  },
  {
   "cell_type": "markdown",
   "source": [
    "Previous work demonstrated that inelastic neutron scattering data for CoRh₂O₄\n",
    "is well described with a single antiferromagnetic nearest neighbor exchange,\n",
    "`J = 0.63` meV. Use `set_exchange!` with the bond that connects atom 1\n",
    "to atom 3, and has zero displacement between chemical cells. Applying the\n",
    "symmetries of spacegroup 227, Sunny will propagate this interaction to the\n",
    "other nearest-neighbor bonds. Calling `view_crystal` with `sys` now\n",
    "shows the antiferromagnetic Heisenberg interactions as blue polkadot spheres."
   ],
   "metadata": {}
  },
  {
   "outputs": [],
   "cell_type": "code",
   "source": [
    "J = +0.63 # (meV)\n",
    "set_exchange!(sys, J, Bond(1, 3, [0, 0, 0]))\n",
    "view_crystal(sys)"
   ],
   "metadata": {},
   "execution_count": null
  },
  {
   "cell_type": "markdown",
   "source": [
    "### Optimizing spins"
   ],
   "metadata": {}
  },
  {
   "cell_type": "markdown",
   "source": [
    "To search for the ground state, call `randomize_spins!` and\n",
    "`minimize_energy!` in sequence. For this problem, optimization\n",
    "converges rapidly to the expected Néel order. See this with\n",
    "`plot_spins`, where spins are colored according to their global\n",
    "$z$-component."
   ],
   "metadata": {}
  },
  {
   "outputs": [],
   "cell_type": "code",
   "source": [
    "randomize_spins!(sys)\n",
    "minimize_energy!(sys)\n",
    "plot_spins(sys; color=[S[3] for S in sys.dipoles])"
   ],
   "metadata": {},
   "execution_count": null
  },
  {
   "cell_type": "markdown",
   "source": [
    "The diamond lattice is bipartite, allowing each spin to perfectly anti-align\n",
    "with its 4 nearest-neighbors. Each of these 4 bonds contribute $-J s^2$ to\n",
    "the total energy. Two sites participate in each bond, so the energy per site\n",
    "is $-2 J s^2$. Check this by calling `energy_per_site`."
   ],
   "metadata": {}
  },
  {
   "outputs": [],
   "cell_type": "code",
   "source": [
    "@assert energy_per_site(sys) ≈ -2J*(3/2)^2"
   ],
   "metadata": {},
   "execution_count": null
  },
  {
   "cell_type": "markdown",
   "source": [
    "### Reshaping the magnetic cell"
   ],
   "metadata": {}
  },
  {
   "cell_type": "markdown",
   "source": [
    "The same Néel order can also be described with a magnetic cell that consists\n",
    "of the 2 cobalt atoms in the primitive cell. Columns of the 3×3 `shape` matrix\n",
    "below are the primitive lattice vectors in units of the conventional, cubic\n",
    "lattice vectors $(𝐚_1, 𝐚_2, 𝐚_3)$. Use `reshape_supercell` to\n",
    "construct a system with this shape, and verify that the energy per site is\n",
    "unchanged."
   ],
   "metadata": {}
  },
  {
   "outputs": [],
   "cell_type": "code",
   "source": [
    "shape = [0 1 1;\n",
    "         1 0 1;\n",
    "         1 1 0] / 2\n",
    "sys_prim = reshape_supercell(sys, shape)\n",
    "@assert energy_per_site(sys_prim) ≈ -2J*(3/2)^2"
   ],
   "metadata": {},
   "execution_count": null
  },
  {
   "cell_type": "markdown",
   "source": [
    "Plotting the spins of `sys_prim` shows the primitive cell as a gray wireframe\n",
    "inside the conventional cubic cell."
   ],
   "metadata": {}
  },
  {
   "outputs": [],
   "cell_type": "code",
   "source": [
    "plot_spins(sys_prim; color=[S[3] for S in sys_prim.dipoles])"
   ],
   "metadata": {},
   "execution_count": null
  },
  {
   "cell_type": "markdown",
   "source": [
    "### Spin wave theory"
   ],
   "metadata": {}
  },
  {
   "cell_type": "markdown",
   "source": [
    "With this primitive cell, we will perform a `SpinWaveTheory`\n",
    "calculation of the structure factor $\\mathcal{S}(𝐪,ω)$. The measurement\n",
    "`ssf_perp` indicates projection of the spin structure factor\n",
    "$\\mathcal{S}(𝐪,ω)$ perpendicular to the direction of momentum transfer, as\n",
    "appropriate for unpolarized neutron scattering. The isotropic\n",
    "`FormFactor` for Co²⁺ dampens intensities at large $𝐪$."
   ],
   "metadata": {}
  },
  {
   "outputs": [],
   "cell_type": "code",
   "source": [
    "formfactors = [1 => FormFactor(\"Co2\")]\n",
    "measure = ssf_perp(sys_prim; formfactors)\n",
    "swt = SpinWaveTheory(sys_prim; measure)"
   ],
   "metadata": {},
   "execution_count": null
  },
  {
   "cell_type": "markdown",
   "source": [
    "Select `lorentzian` broadening with a full-width at half-maximum\n",
    "(FWHM) of 0.8 meV."
   ],
   "metadata": {}
  },
  {
   "outputs": [],
   "cell_type": "code",
   "source": [
    "kernel = lorentzian(fwhm=0.8)"
   ],
   "metadata": {},
   "execution_count": null
  },
  {
   "cell_type": "markdown",
   "source": [
    "Define a `q_space_path` that connects high-symmetry points in\n",
    "reciprocal space. The $𝐪$-points are given in reciprocal lattice units\n",
    "(RLU) for the _original_ cubic cell. For example, `[1/2, 1/2, 0]` denotes the\n",
    "sum of the first two reciprocal lattice vectors, $𝐛_1/2 + 𝐛_2/2$. A total\n",
    "of 500 $𝐪$-points will be sampled along the path."
   ],
   "metadata": {}
  },
  {
   "outputs": [],
   "cell_type": "code",
   "source": [
    "qs = [[0, 0, 0], [1/2, 0, 0], [1/2, 1/2, 0], [0, 0, 0]]\n",
    "path = q_space_path(cryst, qs, 500)"
   ],
   "metadata": {},
   "execution_count": null
  },
  {
   "cell_type": "markdown",
   "source": [
    "Calculate the single-crystal scattering `intensities`` along the path,\n",
    "for 300 energy points between 0 and 6 meV. Use `plot_intensities` to\n",
    "visualize the result."
   ],
   "metadata": {}
  },
  {
   "outputs": [],
   "cell_type": "code",
   "source": [
    "energies = range(0, 6, 300)\n",
    "res = intensities(swt, path; energies, kernel)\n",
    "plot_intensities(res; units)"
   ],
   "metadata": {},
   "execution_count": null
  },
  {
   "cell_type": "markdown",
   "source": [
    "To directly compare with the available experimental data, perform a\n",
    "`powder_average` over all possible crystal orientations. Consider 200\n",
    "$𝐪$ magnitudes ranging from 0 to 3 inverse angstroms. Each magnitude\n",
    "defines spherical shell in reciprocal space, to be sampled with `2000`\n",
    "$𝐪$-points. The calculation completes in just a couple seconds because the\n",
    "magnetic cell size is small."
   ],
   "metadata": {}
  },
  {
   "outputs": [],
   "cell_type": "code",
   "source": [
    "radii = range(0, 3, 200) # (1/Å)\n",
    "res = powder_average(cryst, radii, 2000) do qs\n",
    "    intensities(swt, qs; energies, kernel)\n",
    "end\n",
    "plot_intensities(res; units, saturation=1.0)"
   ],
   "metadata": {},
   "execution_count": null
  },
  {
   "cell_type": "markdown",
   "source": [
    "This result can be compared to experimental neutron scattering data\n",
    "from Fig. 5 of [Ge et al.](https://doi.org/10.1103/PhysRevB.96.064413)\n",
    "\n",
    "<img width=\"95%\" src=\"https://raw.githubusercontent.com/SunnySuite/Sunny.jl/main/docs/src/assets/CoRh2O4_intensity.jpg\">"
   ],
   "metadata": {}
  },
  {
   "cell_type": "markdown",
   "source": [
    "### What's next?\n",
    "\n",
    "* For more spin wave calculations of this traditional type, one can browse the\n",
    "  SpinW tutorials ported to Sunny.\n",
    "* Spin wave theory neglects thermal fluctuations of the magnetic order. Our\n",
    "  next tutorial\n",
    "  demonstrates how to sample spins in thermal equilibrium, and measure\n",
    "  dynamical correlations from the classical spin dynamics.\n",
    "* Sunny also offers features that go beyond the dipole approximation of a\n",
    "  quantum spin via the theory of SU(_N_) coherent states. This can be\n",
    "  especially useful for systems with strong single-ion anisotropy, as\n",
    "  demonstrated in our tutorial on FeI₂."
   ],
   "metadata": {}
  }
 ],
 "nbformat_minor": 3,
 "metadata": {
  "language_info": {
   "file_extension": ".jl",
   "mimetype": "application/julia",
   "name": "julia",
   "version": "1.10.5"
  },
  "kernelspec": {
   "name": "julia-1.10",
   "display_name": "Julia 1.10.5",
   "language": "julia"
  }
 },
 "nbformat": 4
}
