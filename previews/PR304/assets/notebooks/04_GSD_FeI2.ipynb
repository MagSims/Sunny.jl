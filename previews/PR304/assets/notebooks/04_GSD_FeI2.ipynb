{
 "cells": [
  {
   "cell_type": "markdown",
   "source": [
    "# 4. Generalized spin dynamics of FeI₂ at finite *T*"
   ],
   "metadata": {}
  },
  {
   "cell_type": "markdown",
   "source": [
    "The previous FeI₂ tutorial used multi-flavor spin wave theory to calculate the dynamical spin\n",
    "structure factor. Here we perform an analogous calculation at finite\n",
    "temperature using the [classical dynamics of SU(_N_) coherent\n",
    "states](https://doi.org/10.1103/PhysRevB.106.054423).\n",
    "\n",
    "Compared to spin wave theory, classical spin dynamics in real-space is\n",
    "typically much slower, and is limited in $𝐪$-space resolution. The\n",
    "approach, however, allows for thermal fluctuations, can be used to explore\n",
    "[finite temperature phases](https://doi.org/10.1103/PhysRevB.109.014427), and\n",
    "enables the study of [highly non-equilibrium\n",
    "processes](https://doi.org/10.1103/PhysRevB.106.235154).\n",
    "\n",
    "The structure of this tutorial largely follows our previous study of CoRh₂O₄\n",
    "at finite *T*.\n",
    "The main difference is that CoRh₂O₄ can be well described with `:dipole` mode,\n",
    "whereas FeI₂ has a strong easy-axis anisotropy that introduces a single-ion\n",
    "bound state and necessitates the use of `:SUN` mode.\n",
    "\n",
    "Construct the FeI₂ system as described in the previous tutorial."
   ],
   "metadata": {}
  },
  {
   "outputs": [],
   "cell_type": "code",
   "source": [
    "using Sunny, GLMakie\n",
    "\n",
    "units = Units(:meV, :angstrom)\n",
    "a = b = 4.05012\n",
    "c = 6.75214\n",
    "latvecs = lattice_vectors(a, b, c, 90, 90, 120)\n",
    "cryst = Crystal(latvecs, [[0,0,0]], 164; types=[\"Fe\"])\n",
    "\n",
    "sys = System(cryst, [1 => Moment(s=1, g=2)], :SUN)\n",
    "J1pm   = -0.236\n",
    "J1pmpm = -0.161\n",
    "J1zpm  = -0.261\n",
    "J2pm   = 0.026\n",
    "J3pm   = 0.166\n",
    "J′0pm  = 0.037\n",
    "J′1pm  = 0.013\n",
    "J′2apm = 0.068\n",
    "J1zz   = -0.236\n",
    "J2zz   = 0.113\n",
    "J3zz   = 0.211\n",
    "J′0zz  = -0.036\n",
    "J′1zz  = 0.051\n",
    "J′2azz = 0.073\n",
    "J1xx = J1pm + J1pmpm\n",
    "J1yy = J1pm - J1pmpm\n",
    "J1yz = J1zpm\n",
    "set_exchange!(sys, [J1xx 0.0 0.0; 0.0 J1yy J1yz; 0.0 J1yz J1zz], Bond(1,1,[1,0,0]))\n",
    "set_exchange!(sys, [J2pm 0.0 0.0; 0.0 J2pm 0.0; 0.0 0.0 J2zz], Bond(1,1,[1,2,0]))\n",
    "set_exchange!(sys, [J3pm 0.0 0.0; 0.0 J3pm 0.0; 0.0 0.0 J3zz], Bond(1,1,[2,0,0]))\n",
    "set_exchange!(sys, [J′0pm 0.0 0.0; 0.0 J′0pm 0.0; 0.0 0.0 J′0zz], Bond(1,1,[0,0,1]))\n",
    "set_exchange!(sys, [J′1pm 0.0 0.0; 0.0 J′1pm 0.0; 0.0 0.0 J′1zz], Bond(1,1,[1,0,1]))\n",
    "set_exchange!(sys, [J′2apm 0.0 0.0; 0.0 J′2apm 0.0; 0.0 0.0 J′2azz], Bond(1,1,[1,2,1]))\n",
    "D = 2.165\n",
    "set_onsite_coupling!(sys, S -> -D*S[3]^2, 1)"
   ],
   "metadata": {},
   "execution_count": null
  },
  {
   "cell_type": "markdown",
   "source": [
    "### Thermalization"
   ],
   "metadata": {}
  },
  {
   "cell_type": "markdown",
   "source": [
    "To study thermal fluctuations in real-space, use a large system size with\n",
    "16×16×4 copies of the chemical cell."
   ],
   "metadata": {}
  },
  {
   "outputs": [],
   "cell_type": "code",
   "source": [
    "sys = resize_supercell(sys, (16, 16, 4))"
   ],
   "metadata": {},
   "execution_count": null
  },
  {
   "cell_type": "markdown",
   "source": [
    "Previously, we used `minimize_energy!` to find a local energy minimum.\n",
    "Here, we will instead use `Langevin` dynamics to relax the system into\n",
    "thermal equilibrium. The temperature 2.3 K ≈ 0.2 meV is within the ordered\n",
    "phase, but large enough so that the dynamics can overcome local energy\n",
    "barriers and annihilate defects."
   ],
   "metadata": {}
  },
  {
   "outputs": [],
   "cell_type": "code",
   "source": [
    "langevin = Langevin(; damping=0.2, kT=2.3*units.K)"
   ],
   "metadata": {},
   "execution_count": null
  },
  {
   "cell_type": "markdown",
   "source": [
    "Use `suggest_timestep` to select an integration timestep for the error\n",
    "tolerance `tol=1e-2`. Initializing `sys` to some low-energy configuration\n",
    "usually works well."
   ],
   "metadata": {}
  },
  {
   "outputs": [],
   "cell_type": "code",
   "source": [
    "randomize_spins!(sys)\n",
    "minimize_energy!(sys; maxiters=10)\n",
    "suggest_timestep(sys, langevin; tol=1e-2)\n",
    "langevin.dt = 0.03;"
   ],
   "metadata": {},
   "execution_count": null
  },
  {
   "cell_type": "markdown",
   "source": [
    "Run a Langevin trajectory for 10,000 time-steps and plot the spins. At this\n",
    "angle, it is difficult to discern the magnetic order."
   ],
   "metadata": {}
  },
  {
   "outputs": [],
   "cell_type": "code",
   "source": [
    "for _ in 1:10_000\n",
    "    step!(sys, langevin)\n",
    "end\n",
    "plot_spins(sys; color=[S[3] for S in sys.dipoles])"
   ],
   "metadata": {},
   "execution_count": null
  },
  {
   "cell_type": "markdown",
   "source": [
    "The two-up, two-down spiral order can be verified by calling\n",
    "`print_wrapped_intensities`. A single propagation wavevector $±𝐤$\n",
    "provides most of the static intensity in $\\mathcal{S}(𝐪)$. A smaller amount\n",
    "of intensity is spread among many other wavevectors due to thermal\n",
    "fluctuations."
   ],
   "metadata": {}
  },
  {
   "outputs": [],
   "cell_type": "code",
   "source": [
    "print_wrapped_intensities(sys)"
   ],
   "metadata": {},
   "execution_count": null
  },
  {
   "cell_type": "markdown",
   "source": [
    "Calling `suggest_timestep` shows that thermalization has not\n",
    "substantially altered the suggested `dt`."
   ],
   "metadata": {}
  },
  {
   "outputs": [],
   "cell_type": "code",
   "source": [
    "suggest_timestep(sys, langevin; tol=1e-2)"
   ],
   "metadata": {},
   "execution_count": null
  },
  {
   "cell_type": "markdown",
   "source": [
    "### Structure factor in the paramagnetic phase"
   ],
   "metadata": {}
  },
  {
   "cell_type": "markdown",
   "source": [
    "Now we will re-thermalize the system to a temperature of 3.5 K ≈ 0.30 meV,\n",
    "which is in the paramagnetic phase."
   ],
   "metadata": {}
  },
  {
   "outputs": [],
   "cell_type": "code",
   "source": [
    "langevin.kT = 3.5 * units.K\n",
    "for _ in 1:10_000\n",
    "    step!(sys, langevin)\n",
    "end"
   ],
   "metadata": {},
   "execution_count": null
  },
  {
   "cell_type": "markdown",
   "source": [
    "At this higher temperature, the suggested timestep has increased slightly."
   ],
   "metadata": {}
  },
  {
   "outputs": [],
   "cell_type": "code",
   "source": [
    "suggest_timestep(sys, langevin; tol=1e-2)\n",
    "langevin.dt = 0.040;"
   ],
   "metadata": {},
   "execution_count": null
  },
  {
   "cell_type": "markdown",
   "source": [
    "Now collect dynamical spin structure factor data using a\n",
    "`SampledCorrelations` object. This will involve sampling spin\n",
    "configurations from thermal equilibrium and integrating a [classical spin\n",
    "dynamics for SU(_N_) coherent states](https://arxiv.org/abs/2204.07563).\n",
    "Normal modes appearing in the classical dynamics can be quantized to yield\n",
    "magnetic excitations. The associated structure factor intensities\n",
    "$S^{αβ}(q,ω)$ can be compared with inelastic neutron scattering data.\n",
    "Incorporate the `FormFactor` appropriate to Fe²⁺."
   ],
   "metadata": {}
  },
  {
   "outputs": [],
   "cell_type": "code",
   "source": [
    "dt = 2*langevin.dt\n",
    "energies = range(0, 7.5, 120)\n",
    "formfactors = [1 => FormFactor(\"Fe2\"; g_lande=3/2)]\n",
    "sc = SampledCorrelations(sys; dt, energies, measure=ssf_perp(sys; formfactors))"
   ],
   "metadata": {},
   "execution_count": null
  },
  {
   "cell_type": "markdown",
   "source": [
    "The function `add_sample!` will collect data by running a dynamical\n",
    "trajectory starting from the current system configuration."
   ],
   "metadata": {}
  },
  {
   "outputs": [],
   "cell_type": "code",
   "source": [
    "add_sample!(sc, sys)"
   ],
   "metadata": {},
   "execution_count": null
  },
  {
   "cell_type": "markdown",
   "source": [
    "To collect additional data, it is required to re-sample the spin configuration\n",
    "from the thermal distribution. Statistical error is reduced by fully\n",
    "decorrelating the spin configurations between calls to `add_sample!`."
   ],
   "metadata": {}
  },
  {
   "outputs": [],
   "cell_type": "code",
   "source": [
    "for _ in 1:2\n",
    "    for _ in 1:1000               # Enough steps to decorrelate spins\n",
    "        step!(sys, langevin)\n",
    "    end\n",
    "    add_sample!(sc, sys)\n",
    "end"
   ],
   "metadata": {},
   "execution_count": null
  },
  {
   "cell_type": "markdown",
   "source": [
    "Measure intensities along a path connecting high-symmetry $𝐪$-points,\n",
    "specified in reciprocal lattice units (RLU). A classical-to-quantum rescaling\n",
    "of normal mode occupations will be performed according to the temperature\n",
    "`kT`. The large statistical noise could be reduced by averaging over more\n",
    "thermal samples."
   ],
   "metadata": {}
  },
  {
   "outputs": [],
   "cell_type": "code",
   "source": [
    "res = intensities(sc, [[0, 0, 0], [0.5, 0.5, 0.5]]; energies, langevin.kT)\n",
    "fig = lines(res.energies, res.data[:, 1]; axis=(xlabel=\"meV\", ylabel=\"Intensity\"), label=\"(0,0,0)\")\n",
    "lines!(res.energies, res.data[:, 2]; label=\"(π,π,π)\")\n",
    "axislegend()\n",
    "fig"
   ],
   "metadata": {},
   "execution_count": null
  },
  {
   "cell_type": "markdown",
   "source": [
    "Next, we will measure intensities along a `q_space_path` that connects\n",
    "high symmetry points. Because this is a real-space calculation, data is only\n",
    "available for discrete $𝐪$ modes, with resolution that scales inversely to\n",
    "linear system size. Intensities at $ω = 0$ dominate, so to enhance\n",
    "visibility, we restrict the color range empirically."
   ],
   "metadata": {}
  },
  {
   "outputs": [],
   "cell_type": "code",
   "source": [
    "qs = [[0,   0, 0],  # List of wave vectors that define a path\n",
    "      [1,   0, 0],\n",
    "      [0,   1, 0],\n",
    "      [1/2, 0, 0],\n",
    "      [0,   1, 0],\n",
    "      [0,   0, 0]]\n",
    "qpath = q_space_path(cryst, qs, 500)\n",
    "res = intensities(sc, qpath; energies, langevin.kT)\n",
    "plot_intensities(res; colorrange=(0.0, 1.0))"
   ],
   "metadata": {},
   "execution_count": null
  },
  {
   "cell_type": "markdown",
   "source": [
    "One can also view the intensity along a `q_space_grid` for a fixed\n",
    "energy value. Alternatively, use `intensities_static` to integrate\n",
    "over all available energies."
   ],
   "metadata": {}
  },
  {
   "outputs": [],
   "cell_type": "code",
   "source": [
    "grid = q_space_grid(cryst, [1, 0, 0], range(-1.5, 1.5, 300), [0, 1, 0], (-1.5, 1.5); orthogonalize=true)\n",
    "res = intensities(sc, grid; energies=[3.88], langevin.kT)\n",
    "plot_intensities(res)"
   ],
   "metadata": {},
   "execution_count": null
  }
 ],
 "nbformat_minor": 3,
 "metadata": {
  "language_info": {
   "file_extension": ".jl",
   "mimetype": "application/julia",
   "name": "julia",
   "version": "1.10.5"
  },
  "kernelspec": {
   "name": "julia-1.10",
   "display_name": "Julia 1.10.5",
   "language": "julia"
  }
 },
 "nbformat": 4
}
